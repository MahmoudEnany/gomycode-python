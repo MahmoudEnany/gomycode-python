{
 "cells": [
  {
   "cell_type": "code",
   "execution_count": 10,
   "id": "7d2a1e08",
   "metadata": {},
   "outputs": [
    {
     "name": "stdout",
     "output_type": "stream",
     "text": [
      "Search : samsung\n",
      "Samsung\n",
      "Native name :: 삼성 (三星) \n",
      "_ _ _ _ _ _ _\n",
      "Romanized name :: samseong (samseong) \n",
      "_ _ _ _ _ _ _\n",
      "Type :: Private \n",
      "_ _ _ _ _ _ _\n",
      "Industry :: Conglomerate \n",
      "_ _ _ _ _ _ _\n",
      "Founded :: 1 March 1938; 84 years ago (1938-03-01) in Daegu, Japanese Korea \n",
      "_ _ _ _ _ _ _\n",
      "Founder :: Lee Byung-chul \n",
      "_ _ _ _ _ _ _\n",
      "Headquarters :: 40th floor Samsung Electronics Building, 11, Seocho-daero 74-gil, Seocho District, Seoul, South Korea[1] \n",
      "_ _ _ _ _ _ _\n",
      "Area served :: Worldwide \n",
      "_ _ _ _ _ _ _\n",
      "Key people :: Lee Jae-yong(chairman) \n",
      "_ _ _ _ _ _ _\n",
      "Products :: Clothing, automotive, chemicals, consumer electronics, electronic components, medical equipment, semiconductors, solid state drives, DRAM, flash memory, ships, telecommunications equipment, home appliances[2] \n",
      "_ _ _ _ _ _ _\n",
      "Services :: Advertising, construction, entertainment, financial services, hospitality, information and communications technology, medical and health care services, retail, shipbuilding, semiconductor foundry \n",
      "_ _ _ _ _ _ _\n",
      "Subsidiaries :: Samsung ElectronicsSamsung Electro-MechanicsSamsung SDISamsung SDSSamsung EngineeringSamsung C&T CorporationSamsung Heavy IndustriesSamsung Life InsuranceSamsung Fire & Marine InsuranceCheil WorldwideSamsung Biologics \n",
      "_ _ _ _ _ _ _\n",
      "Website :: www.samsung.com  \n",
      "_ _ _ _ _ _ _\n",
      "Hangul :: 삼성 \n",
      "_ _ _ _ _ _ _\n",
      "Hanja :: 三星 \n",
      "_ _ _ _ _ _ _\n",
      "Revised Romanization :: Samseong \n",
      "_ _ _ _ _ _ _\n",
      "McCune–Reischauer :: Samsŏng \n",
      "_ _ _ _ _ _ _\n",
      "The Samsung Group[3] (or simply Samsung) (Korean: 삼성 [samsʌŋ]) is a South Korean multinational manufacturing conglomerate headquartered in Samsung Town, Seoul, South Korea.[1] It comprises numerous affiliated businesses,[1] most of them united under the Samsung brand, and is the largest South Korean chaebol (business conglomerate). As of 2020,[update] Samsung has the eighth highest global brand value.[4]\n",
      "\n",
      "Samsung was founded by Lee Byung-chul in 1938 as a trading company. Over the next three decades, the group diversified into areas including food processing, textiles, insurance, securities, and retail. Samsung entered the electronics industry in the late 1960s and the construction and shipbuilding industries in the mid-1970s; these areas would drive its subsequent growth. Following Lee's death in 1987, Samsung was separated into five business groups – Samsung Group, Shinsegae Group, CJ Group and Hansol Group, and Joongang Group.\n",
      "\n"
     ]
    }
   ],
   "source": [
    "import requests\n",
    "import string\n",
    "from bs4 import BeautifulSoup\n",
    "\n",
    "Einput = input(\"Search : \")\n",
    "ui = string.capwords(Einput)\n",
    "lists = ui.split()\n",
    "word = \"_\".join(lists)\n",
    "print(word)\n",
    "url = \"https://en.wikipedia.org/wiki/\"+word\n",
    "\n",
    "def wikibot(url):\n",
    "    url_open = requests.get(url)\n",
    "    soup = BeautifulSoup(url_open.content,'html.parser')\n",
    "    details = soup('table',{'class':'infobox'})\n",
    "    for i in details:\n",
    "        h = i.find_all('tr')\n",
    "        for j in h:\n",
    "            heading = j.find_all('th')\n",
    "            detail = j.find_all('td')\n",
    "            if heading is not None and detail is not None:\n",
    "                for x,y in zip(heading,detail):\n",
    "                    print(\"{} :: {} \".format(x.text,y.text))\n",
    "                    print(\"_ _ _ _ _ _ _\")\n",
    "    for i in range(1,3):\n",
    "        print(soup('p')[i].text)\n",
    "wikibot(url)"
   ]
  },
  {
   "cell_type": "code",
   "execution_count": null,
   "id": "57d4d346",
   "metadata": {},
   "outputs": [],
   "source": []
  }
 ],
 "metadata": {
  "kernelspec": {
   "display_name": "Python 3 (ipykernel)",
   "language": "python",
   "name": "python3"
  },
  "language_info": {
   "codemirror_mode": {
    "name": "ipython",
    "version": 3
   },
   "file_extension": ".py",
   "mimetype": "text/x-python",
   "name": "python",
   "nbconvert_exporter": "python",
   "pygments_lexer": "ipython3",
   "version": "3.9.13"
  }
 },
 "nbformat": 4,
 "nbformat_minor": 5
}

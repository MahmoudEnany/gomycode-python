{
 "cells": [
  {
   "cell_type": "code",
   "execution_count": 1,
   "id": "e0156b01",
   "metadata": {},
   "outputs": [
    {
     "name": "stdout",
     "output_type": "stream",
     "text": [
      "[5, 5, 8, 10, 4, 0]\n"
     ]
    }
   ],
   "source": [
    "#Q1\n",
    "import numpy as np\n",
    "a = np.array([5,5,8,10,4,0])\n",
    "a = a.tolist()\n",
    "print(a)\n"
   ]
  },
  {
   "cell_type": "code",
   "execution_count": 18,
   "id": "165c2abf",
   "metadata": {},
   "outputs": [
    {
     "name": "stdout",
     "output_type": "stream",
     "text": [
      "1st method  32\n",
      "2nd method  32\n"
     ]
    }
   ],
   "source": [
    "#Q2\n",
    "arr = np.array([4,8,9,5,6])\n",
    "result = 0\n",
    "#Method 1\n",
    "for x in arr:\n",
    "    result += x\n",
    "print (\"1st method \", result)\n",
    "#Method 2\n",
    "print(\"2nd method \",np.sum(arr))"
   ]
  },
  {
   "cell_type": "code",
   "execution_count": 22,
   "id": "3dc174f1",
   "metadata": {},
   "outputs": [
    {
     "name": "stdout",
     "output_type": "stream",
     "text": [
      "Values greater than 2 are:  [4, 4, 5, 5, 10]\n"
     ]
    }
   ],
   "source": [
    "#Q3\n",
    "arr = np.array([4,0,4,5,2,5,1,10,1])\n",
    "ctwo = []\n",
    "for x in arr:\n",
    "    if x > 2:\n",
    "        ctwo.append(x)\n",
    "print(\"Values greater than 2 are: \",ctwo)"
   ]
  },
  {
   "cell_type": "code",
   "execution_count": 30,
   "id": "2e7ce085",
   "metadata": {},
   "outputs": [
    {
     "name": "stdout",
     "output_type": "stream",
     "text": [
      "Wish to apply sum?y/n: y\n",
      "Sum is:  34\n"
     ]
    }
   ],
   "source": [
    "#Q4\n",
    "arr1 = np.array([1,1,5,8])\n",
    "arr2 = np.array([4,6,2,7])\n",
    "if input(\"Wish to apply sum?y/n: \") == \"y\":\n",
    "    arr3 = np.sum([arr1,arr2])\n",
    "    print(\"Sum is: \",arr3)"
   ]
  },
  {
   "cell_type": "code",
   "execution_count": 36,
   "id": "eb8c4785",
   "metadata": {},
   "outputs": [
    {
     "name": "stdout",
     "output_type": "stream",
     "text": [
      "18.75 25.0\n"
     ]
    }
   ],
   "source": [
    "#Q5\n",
    "arr1 = np.array([1,1,5,8])\n",
    "arr2 = np.array([4,6,3,7])\n",
    "for i in arr1:\n",
    "    arr11 = np.mean(arr1) + np.sum(arr1)\n",
    "\n",
    "for x in arr2:\n",
    "    arr22 = np.mean(arr2) + np.sum(arr2)\n",
    "\n",
    "print(arr11,arr22)"
   ]
  }
 ],
 "metadata": {
  "kernelspec": {
   "display_name": "Python 3 (ipykernel)",
   "language": "python",
   "name": "python3"
  },
  "language_info": {
   "codemirror_mode": {
    "name": "ipython",
    "version": 3
   },
   "file_extension": ".py",
   "mimetype": "text/x-python",
   "name": "python",
   "nbconvert_exporter": "python",
   "pygments_lexer": "ipython3",
   "version": "3.9.13"
  }
 },
 "nbformat": 4,
 "nbformat_minor": 5
}

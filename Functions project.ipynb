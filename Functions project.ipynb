{
 "cells": [
  {
   "cell_type": "code",
   "execution_count": null,
   "id": "75ce3ddb",
   "metadata": {},
   "outputs": [],
   "source": [
    "#Q1\n",
    "x = input(\"Enter X value: \")\n",
    "y = input(\"Enter Y value: \")\n",
    "z = input(\"Enter Z value: \")\n",
    "def maximum():\n",
    "    if x > y and x > z:\n",
    "        return(\"x: \"+ x)\n",
    "    elif y > x and y > z:\n",
    "        return(\"y: \"+ y)\n",
    "    else:\n",
    "        return(\"z: \"+ z)\n",
    "\n",
    "maximum()"
   ]
  },
  {
   "cell_type": "code",
   "execution_count": null,
   "id": "f9081082",
   "metadata": {},
   "outputs": [],
   "source": [
    "#Q2\n",
    "x = int(input(\"Enter X value: \"))\n",
    "y = int(input(\"Enter Y value: \"))\n",
    "def math():\n",
    "    return(x+y,x-y)\n",
    "math()"
   ]
  },
  {
   "cell_type": "code",
   "execution_count": 29,
   "id": "7cc250ea",
   "metadata": {},
   "outputs": [
    {
     "name": "stdout",
     "output_type": "stream",
     "text": [
      "Enter the total list integers: 4\n",
      "Enter list value number 1 4\n",
      "Enter list value number 2 5\n",
      "Enter list value number 3 6\n",
      "Enter list value number 4 7\n",
      "Sum of Evens is:  10 |Multiply of Odds is:  35\n"
     ]
    }
   ],
   "source": [
    "#Q3\n",
    "lste = []\n",
    "lsto = []\n",
    "s = int(input(\"Enter the total list integers: \"))\n",
    "for i in range(s):\n",
    "    if i % 2 == 0:\n",
    "        lste.append(int(input(\"Enter list value number %s\" % (i+1) + \" \")))\n",
    "    else:\n",
    "        lsto.append(int(input(\"Enter list value number %s\" % (i+1) + \" \")))\n",
    "temp = 0\n",
    "temp1 = 1\n",
    "def slst():\n",
    "    global temp\n",
    "    for i in range(len(lste)):\n",
    "        temp += lste[i]\n",
    "    return(temp)\n",
    "def mlst():\n",
    "    global temp1 \n",
    "    for i in range(len(lsto)):\n",
    "        temp1 *= lsto[i]\n",
    "    return(temp1)\n",
    "print(\"Sum of Evens is: \",slst(),\"|Multiply of Odds is: \",mlst())"
   ]
  },
  {
   "cell_type": "code",
   "execution_count": 1,
   "id": "51cf0b01",
   "metadata": {},
   "outputs": [
    {
     "name": "stdout",
     "output_type": "stream",
     "text": [
      "alpha\n",
      "alpha\n"
     ]
    }
   ],
   "source": [
    "#Q4\n",
    "items = [i for i in input().split(\"-\")]\n",
    "items.sort()\n",
    "print(\"-\".join(items))"
   ]
  },
  {
   "cell_type": "code",
   "execution_count": 19,
   "id": "0aea4775",
   "metadata": {},
   "outputs": [
    {
     "name": "stdout",
     "output_type": "stream",
     "text": [
      "100,150\n"
     ]
    },
    {
     "ename": "TypeError",
     "evalue": "int() argument must be a string, a bytes-like object or a number, not 'list'",
     "output_type": "error",
     "traceback": [
      "\u001b[1;31m---------------------------------------------------------------------------\u001b[0m",
      "\u001b[1;31mTypeError\u001b[0m                                 Traceback (most recent call last)",
      "\u001b[1;32m~\\AppData\\Local\\Temp\\ipykernel_2276\\1225278673.py\u001b[0m in \u001b[0;36m<module>\u001b[1;34m\u001b[0m\n\u001b[0;32m      1\u001b[0m \u001b[1;31m#Q5\u001b[0m\u001b[1;33m\u001b[0m\u001b[1;33m\u001b[0m\u001b[0m\n\u001b[0;32m      2\u001b[0m \u001b[1;32mimport\u001b[0m \u001b[0mmath\u001b[0m\u001b[1;33m\u001b[0m\u001b[1;33m\u001b[0m\u001b[0m\n\u001b[1;32m----> 3\u001b[1;33m \u001b[0mitem\u001b[0m \u001b[1;33m=\u001b[0m \u001b[0mmath\u001b[0m\u001b[1;33m.\u001b[0m\u001b[0msqrt\u001b[0m\u001b[1;33m(\u001b[0m\u001b[0mint\u001b[0m\u001b[1;33m(\u001b[0m\u001b[0minput\u001b[0m\u001b[1;33m(\u001b[0m\u001b[1;33m)\u001b[0m\u001b[1;33m.\u001b[0m\u001b[0msplit\u001b[0m\u001b[1;33m(\u001b[0m\u001b[1;34m\",\"\u001b[0m\u001b[1;33m)\u001b[0m\u001b[1;33m)\u001b[0m\u001b[1;33m)\u001b[0m\u001b[1;33m\u001b[0m\u001b[1;33m\u001b[0m\u001b[0m\n\u001b[0m\u001b[0;32m      4\u001b[0m \u001b[0mprint\u001b[0m\u001b[1;33m(\u001b[0m\u001b[1;34m\",\"\u001b[0m\u001b[1;33m.\u001b[0m\u001b[0mjoin\u001b[0m\u001b[1;33m(\u001b[0m\u001b[0mitem\u001b[0m\u001b[1;33m)\u001b[0m\u001b[1;33m)\u001b[0m\u001b[1;33m\u001b[0m\u001b[1;33m\u001b[0m\u001b[0m\n",
      "\u001b[1;31mTypeError\u001b[0m: int() argument must be a string, a bytes-like object or a number, not 'list'"
     ]
    }
   ],
   "source": [
    "#Q5\n",
    "#import math\n",
    "#item = math.sqrt(int(input().split(\",\")))\n",
    "#print(\",\".join(item))"
   ]
  },
  {
   "cell_type": "code",
   "execution_count": null,
   "id": "5584e287",
   "metadata": {},
   "outputs": [],
   "source": []
  }
 ],
 "metadata": {
  "kernelspec": {
   "display_name": "Python 3 (ipykernel)",
   "language": "python",
   "name": "python3"
  },
  "language_info": {
   "codemirror_mode": {
    "name": "ipython",
    "version": 3
   },
   "file_extension": ".py",
   "mimetype": "text/x-python",
   "name": "python",
   "nbconvert_exporter": "python",
   "pygments_lexer": "ipython3",
   "version": "3.9.13"
  }
 },
 "nbformat": 4,
 "nbformat_minor": 5
}

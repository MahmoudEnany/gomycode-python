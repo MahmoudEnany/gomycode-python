{
 "cells": [
  {
   "cell_type": "code",
   "execution_count": 1,
   "id": "02daaef7",
   "metadata": {},
   "outputs": [
    {
     "name": "stdout",
     "output_type": "stream",
     "text": [
      "5\n",
      "8\n",
      "9\n",
      "k is found\n"
     ]
    }
   ],
   "source": [
    "#Q1\n",
    "def bs(a,k,l,h):\n",
    "    if h >= l:\n",
    "        mid = int(l + (h-l)/2)\n",
    "        print(mid)\n",
    "        if a[mid] == k:\n",
    "            print('k is found')\n",
    "        elif a[mid] > k:\n",
    "            return bs(a,k,mid-1,h)\n",
    "        else:\n",
    "            return bs(a,k,mid+1,h)\n",
    "a = [1, 2, 7, 12, 28, 31, 40, 41, 42, 46, 59]\n",
    "k=46;l=0;h = len(a)-1;\n",
    "bs(a,k,l,h)"
   ]
  },
  {
   "cell_type": "code",
   "execution_count": 7,
   "id": "68548f73",
   "metadata": {},
   "outputs": [
    {
     "name": "stdout",
     "output_type": "stream",
     "text": [
      "10\n",
      "2\n",
      "100\n"
     ]
    }
   ],
   "source": [
    "#Q2\n",
    "a = int(input())\n",
    "b = int(input())\n",
    "print(a**b)"
   ]
  },
  {
   "cell_type": "code",
   "execution_count": 10,
   "id": "7973b0cd",
   "metadata": {},
   "outputs": [
    {
     "data": {
      "text/plain": [
       "[13, 22, 29, 37, 46, 49, 52, 56, 71]"
      ]
     },
     "execution_count": 10,
     "metadata": {},
     "output_type": "execute_result"
    }
   ],
   "source": [
    "#Q3\n",
    "a = [29,13,22,37,52,49,46,71,56]\n",
    "\n",
    "def bubbleSort(a):\n",
    "    for passnum in range(len(a)-1,0,-1):\n",
    "        for i in range(passnum):\n",
    "            if a[i]>a[i+1]:\n",
    "                temp = a[i]\n",
    "                a[i] = a[i+1]\n",
    "                a[i+1] = temp\n",
    "    return a\n",
    "\n",
    "bubbleSort(a)\n",
    "    \n"
   ]
  },
  {
   "cell_type": "code",
   "execution_count": 13,
   "id": "3788f00c",
   "metadata": {},
   "outputs": [
    {
     "name": "stdout",
     "output_type": "stream",
     "text": [
      "[56, 71, 56, 71, 56, 49, 46, 71, 56]\n"
     ]
    }
   ],
   "source": [
    "#Q4\n",
    "def mergeSort(myList):\n",
    "    if len(myList) > 1:\n",
    "        mid = len(myList) // 2\n",
    "        left = myList[:mid]\n",
    "        right = myList[mid:]\n",
    "\n",
    "        mergeSort(left)\n",
    "        mergeSort(right)\n",
    "\n",
    "        i = 0\n",
    "        j = 0\n",
    "        \n",
    "        k = 0\n",
    "        \n",
    "        while i < len(left) and j < len(right):\n",
    "            if left[i] < right[j]:\n",
    "                myList[k] = left[i]\n",
    "                i += 1\n",
    "            else:\n",
    "                myList[k] = right[j]\n",
    "                j += 1\n",
    "                k += 1\n",
    "\n",
    "        while i < len(left):\n",
    "            myList[k] = left[i]\n",
    "            i += 1\n",
    "            k += 1\n",
    "\n",
    "        while j < len(right):\n",
    "            myList[k]=right[j]\n",
    "            j += 1\n",
    "            k += 1\n",
    "\n",
    "myList =  [29,13,22,37,52,49,46,71,56]\n",
    "mergeSort(myList)\n",
    "print(myList)\n",
    "\n"
   ]
  },
  {
   "cell_type": "code",
   "execution_count": 16,
   "id": "29fa35b1",
   "metadata": {},
   "outputs": [
    {
     "name": "stdout",
     "output_type": "stream",
     "text": [
      "[13, 22, 29, 37, 46, 49, 52, 56, 71]\n"
     ]
    }
   ],
   "source": [
    "#Q5\n",
    "def partition(array, start, end):\n",
    "    pivot = array[start]\n",
    "    low = start + 1\n",
    "    high = end\n",
    "    while True:\n",
    "\n",
    "        while low <= high and array[high] >= pivot:\n",
    "            high = high - 1\n",
    "\n",
    "        while low <= high and array[low] <= pivot:\n",
    "            low = low + 1\n",
    "\n",
    "        if low <= high:\n",
    "            array[low], array[high] = array[high], array[low]\n",
    "        else:\n",
    "            break\n",
    "\n",
    "    array[start], array[high] = array[high], array[start]\n",
    "\n",
    "    return high\n",
    "\n",
    "def quick_sort(array, start, end):\n",
    "    if start >= end:\n",
    "        return\n",
    "\n",
    "    p = partition(array, start, end)\n",
    "    quick_sort(array, start, p-1)\n",
    "    quick_sort(array, p+1, end)\n",
    "\n",
    "array = [29,13,22,37,52,49,46,71,56]\n",
    "quick_sort(array, 0, len(array) - 1)\n",
    "print(array)"
   ]
  },
  {
   "cell_type": "code",
   "execution_count": null,
   "id": "90971789",
   "metadata": {},
   "outputs": [],
   "source": []
  }
 ],
 "metadata": {
  "kernelspec": {
   "display_name": "Python 3 (ipykernel)",
   "language": "python",
   "name": "python3"
  },
  "language_info": {
   "codemirror_mode": {
    "name": "ipython",
    "version": 3
   },
   "file_extension": ".py",
   "mimetype": "text/x-python",
   "name": "python",
   "nbconvert_exporter": "python",
   "pygments_lexer": "ipython3",
   "version": "3.9.13"
  }
 },
 "nbformat": 4,
 "nbformat_minor": 5
}

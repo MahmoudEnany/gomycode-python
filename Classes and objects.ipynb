{
 "cells": [
  {
   "cell_type": "code",
   "execution_count": null,
   "id": "e1c6bbdc",
   "metadata": {},
   "outputs": [],
   "source": [
    "#Q1\n",
    "class Point3D:\n",
    "  def __init__(self,x,y,z):\n",
    "    self.x = x\n",
    "    self.y = y\n",
    "    self.z = z\n",
    "  def __repr__(self):\n",
    "    return \"(%d,%d,%d)\" % (self.x,self.y,self.z)\n",
    "item = Point3D(int(input(\"Enter x value : \")),int(input(\"Enter y value : \")),int(input(\"Enter z value : \")))\n",
    "print(item)"
   ]
  },
  {
   "cell_type": "code",
   "execution_count": null,
   "id": "68183dda",
   "metadata": {},
   "outputs": [],
   "source": [
    "#Q2\n",
    "class rectangle:\n",
    "    def __init__(self,length,width):\n",
    "        self.length = length\n",
    "        self.width = width\n",
    "    def area(self):\n",
    "        return self.length*self.width\n",
    "    def perimeter(self):\n",
    "        return 2*self.length + 2*self.width\n",
    "x = int(input(\"Enter rectangle length : \"))\n",
    "y = int(input(\"Enter rectangle width : \"))\n",
    "o1 = rectangle(x,y)\n",
    "print(\"The rectangle area is :\", o1.area())\n",
    "print(\"The rectangle perimeter is : \",o1.perimeter())\n",
    "        "
   ]
  },
  {
   "cell_type": "code",
   "execution_count": null,
   "id": "1931b696",
   "metadata": {},
   "outputs": [],
   "source": [
    "#Q3\n",
    "\"\"\"class circle:\n",
    "    def __init__(self,o,r):\n",
    "        self.o = o\n",
    "        self.r = r\n",
    "    def area(self):\n",
    "        return self.o*self.r\n",
    "    def perimeter(self):\n",
    "        return 2*self.o + 2*self.r\n",
    "x = int(input(\"Enter circle center : \"))\n",
    "y = int(input(\"Enter circle redius : \"))\n",
    "o1 = circle(x,y)\n",
    "print(\"The circle area is :\", o1.area())\n",
    "print(\"The circle perimeter is : \",o1.perimeter())\n",
    "inside(circle)\"\"\""
   ]
  },
  {
   "cell_type": "code",
   "execution_count": 5,
   "id": "ed5f14ae",
   "metadata": {},
   "outputs": [
    {
     "name": "stdout",
     "output_type": "stream",
     "text": [
      "Enter you operation type (wit/dep)wit\n",
      "Enter you withdrawal amount: 150\n",
      "50\n"
     ]
    }
   ],
   "source": [
    "#Q4\n",
    "\n",
    "opr = input(\"Enter you operation type (wit/dep)\")\n",
    "if opr == \"dep\":\n",
    "    dep = int(input(\"Enter you deposit amount: \"))\n",
    "    acc += dep\n",
    "else:\n",
    "    wit = int(input(\"Enter you withdrawal amount: \"))\n",
    "    acc -= wit\n",
    "print(acc)"
   ]
  },
  {
   "cell_type": "code",
   "execution_count": null,
   "id": "5526f37f",
   "metadata": {},
   "outputs": [],
   "source": []
  }
 ],
 "metadata": {
  "kernelspec": {
   "display_name": "Python 3 (ipykernel)",
   "language": "python",
   "name": "python3"
  },
  "language_info": {
   "codemirror_mode": {
    "name": "ipython",
    "version": 3
   },
   "file_extension": ".py",
   "mimetype": "text/x-python",
   "name": "python",
   "nbconvert_exporter": "python",
   "pygments_lexer": "ipython3",
   "version": "3.9.13"
  }
 },
 "nbformat": 4,
 "nbformat_minor": 5
}

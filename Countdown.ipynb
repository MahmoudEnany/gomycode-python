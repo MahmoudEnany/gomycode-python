{
 "cells": [
  {
   "cell_type": "code",
   "execution_count": 5,
   "id": "1413d9e0",
   "metadata": {},
   "outputs": [
    {
     "name": "stdout",
     "output_type": "stream",
     "text": [
      "import time length in seconds: 20\n"
     ]
    }
   ],
   "source": [
    "import time\n",
    "\n",
    "t = int(input(\"import time length in seconds: \"))"
   ]
  },
  {
   "cell_type": "code",
   "execution_count": 7,
   "id": "0459e970",
   "metadata": {},
   "outputs": [
    {
     "name": "stdout",
     "output_type": "stream",
     "text": [
      "fire in the hole!\n",
      "00:00\r"
     ]
    }
   ],
   "source": [
    "def countdown(t):\n",
    "  while t>=0:\n",
    "    x = divmod(t,60)\n",
    "    minutes = x[0]\n",
    "    seconds = x[1]\n",
    "    print(\"{:02d}:{:02d}\".format(minutes,seconds),end = \"\\r\")\n",
    "    time.sleep(1)\n",
    "    t-=1\n",
    "    if t == 0:\n",
    "        print(\"fire in the hole!\")\n",
    "countdown(t)"
   ]
  }
 ],
 "metadata": {
  "kernelspec": {
   "display_name": "Python 3 (ipykernel)",
   "language": "python",
   "name": "python3"
  },
  "language_info": {
   "codemirror_mode": {
    "name": "ipython",
    "version": 3
   },
   "file_extension": ".py",
   "mimetype": "text/x-python",
   "name": "python",
   "nbconvert_exporter": "python",
   "pygments_lexer": "ipython3",
   "version": "3.9.13"
  }
 },
 "nbformat": 4,
 "nbformat_minor": 5
}

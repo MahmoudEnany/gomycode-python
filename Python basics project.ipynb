{
 "cells": [
  {
   "cell_type": "code",
   "execution_count": null,
   "id": "da013ba5",
   "metadata": {},
   "outputs": [],
   "source": [
    "#Question 1\n",
    "name1 = input(\"enter your first name please \")\n",
    "name2 = input(\"enter your last name please \")\n",
    "print (str.capitalize(name2) + \" \" + str.capitalize(name1))"
   ]
  },
  {
   "cell_type": "code",
   "execution_count": null,
   "id": "34a42d60",
   "metadata": {},
   "outputs": [],
   "source": [
    "#Question 2\n",
    "n = int(input(\"please enter an integer \"))\n",
    "nn =  int(\"%s%s\" % (n,n))\n",
    "nnn = int(\"%s%s%s\" % (n,n,n))\n",
    "print (n + nn + nnn)"
   ]
  },
  {
   "cell_type": "code",
   "execution_count": null,
   "id": "14b84e95",
   "metadata": {},
   "outputs": [],
   "source": [
    "#Question 3\n",
    "n = int(input(\"Please enter an integer : \"))\n",
    "if (n % 2) == 0:\n",
    "    print (\"Even\")\n",
    "else:\n",
    "    print(\"Odd\")\n"
   ]
  },
  {
   "cell_type": "code",
   "execution_count": null,
   "id": "69031a19",
   "metadata": {},
   "outputs": [],
   "source": [
    "#Question 4\n",
    "i = 0\n",
    "for i in range(2000,3200):\n",
    "    if (i % 7 == 0) and (i % 5 != 0):\n",
    "        print (i)\n",
    "    i += 1"
   ]
  },
  {
   "cell_type": "code",
   "execution_count": null,
   "id": "f800c899",
   "metadata": {},
   "outputs": [],
   "source": [
    "#Question 5\n",
    "\n",
    "## Can;t solve it"
   ]
  },
  {
   "cell_type": "code",
   "execution_count": null,
   "id": "57399eec",
   "metadata": {},
   "outputs": [],
   "source": [
    "#Question 6\n",
    "str2 = input(\"Enter a string : \")\n",
    "str1 = \"\"\n",
    "for i in range(0,len(str2)):\n",
    "    if i % 2 == 0:\n",
    "        str1 += str2[i]\n",
    "print (str1)"
   ]
  },
  {
   "cell_type": "code",
   "execution_count": 12,
   "id": "aa3d1678",
   "metadata": {},
   "outputs": [
    {
     "name": "stdout",
     "output_type": "stream",
     "text": [
      "Enter a number : 500\n",
      "250.0\n"
     ]
    }
   ],
   "source": [
    "#Question 7\n",
    "DS5 = 50\n",
    "DS25 = 30\n",
    "DS1 = 10\n",
    "w1 = 0\n",
    "w = int(input(\"Enter a number : \"))\n",
    "if w >= 500:\n",
    "    w -= w*(DS5/100)\n",
    "elif w in range(200,500):\n",
    "    w -= w*(DS25/100)\n",
    "elif w < 200:\n",
    "    w -= w*(DS1/100)\n",
    "print(w)"
   ]
  }
 ],
 "metadata": {
  "kernelspec": {
   "display_name": "Python 3 (ipykernel)",
   "language": "python",
   "name": "python3"
  },
  "language_info": {
   "codemirror_mode": {
    "name": "ipython",
    "version": 3
   },
   "file_extension": ".py",
   "mimetype": "text/x-python",
   "name": "python",
   "nbconvert_exporter": "python",
   "pygments_lexer": "ipython3",
   "version": "3.9.13"
  }
 },
 "nbformat": 4,
 "nbformat_minor": 5
}

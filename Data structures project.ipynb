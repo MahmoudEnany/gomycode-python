{
 "cells": [
  {
   "cell_type": "code",
   "execution_count": 1,
   "id": "c30dbfbb",
   "metadata": {},
   "outputs": [
    {
     "name": "stdout",
     "output_type": "stream",
     "text": [
      "36\n"
     ]
    }
   ],
   "source": [
    "#Q1\n",
    "s = [2,3,6]\n",
    "x = 1\n",
    "for i in range(len(s)):\n",
    "    x *= s[i]\n",
    "print (x)"
   ]
  },
  {
   "cell_type": "code",
   "execution_count": 2,
   "id": "16e753f3",
   "metadata": {},
   "outputs": [
    {
     "name": "stdout",
     "output_type": "stream",
     "text": [
      "[(2, 1), (1, 2), (2, 3), (4, 4), (2, 5)]\n"
     ]
    }
   ],
   "source": [
    "#Q2\n",
    "s= [(2, 5), (1, 2), (4, 4), (2, 3), (2, 1)]\n",
    "s.sort(key = lambda k : k[1])\n",
    "print (s)"
   ]
  },
  {
   "cell_type": "code",
   "execution_count": 3,
   "id": "a30e09c5",
   "metadata": {},
   "outputs": [
    {
     "name": "stdout",
     "output_type": "stream",
     "text": [
      "{'b': 600, 'c': 900, 'a': 700}\n"
     ]
    }
   ],
   "source": [
    "#Q3\n",
    "d1 = {'a':100 ,'b':200 ,'c':400}\n",
    "d2 = {'b':400 ,'c':500 ,'a':600}\n",
    "d3 = d2\n",
    "for key in d3:\n",
    "    if key in d3:\n",
    "        d3[key] = d1[key] + d2[key]\n",
    "print(d3)"
   ]
  },
  {
   "cell_type": "code",
   "execution_count": 70,
   "id": "697e2077",
   "metadata": {},
   "outputs": [
    {
     "name": "stdout",
     "output_type": "stream",
     "text": [
      "Enter an integer5\n",
      "{1: 1, 2: 4, 3: 9, 4: 16, 5: 25}\n"
     ]
    }
   ],
   "source": [
    "#Q4\n",
    "s= int(input(\"Enter an integer\"))\n",
    "b = {}\n",
    "for i in range (s):\n",
    "    key = i+1\n",
    "    b[key] = key*key\n",
    "print(b)"
   ]
  },
  {
   "cell_type": "code",
   "execution_count": 87,
   "id": "cade58f2",
   "metadata": {},
   "outputs": [
    {
     "name": "stdout",
     "output_type": "stream",
     "text": [
      "[('item2', '14.10'), ('item1', '15.20'), ('item3', '24.5')]\n"
     ]
    }
   ],
   "source": [
    "#Q5\n",
    "lst1= [('item1', '15.20'), ('item2', '14.10'), ('item3', '24.5')]\n",
    "lst1.sort(key = lambda i : i[1],reverse= True)\n",
    "print(lst1)"
   ]
  },
  {
   "cell_type": "code",
   "execution_count": null,
   "id": "b9739057",
   "metadata": {},
   "outputs": [],
   "source": []
  }
 ],
 "metadata": {
  "kernelspec": {
   "display_name": "Python 3 (ipykernel)",
   "language": "python",
   "name": "python3"
  },
  "language_info": {
   "codemirror_mode": {
    "name": "ipython",
    "version": 3
   },
   "file_extension": ".py",
   "mimetype": "text/x-python",
   "name": "python",
   "nbconvert_exporter": "python",
   "pygments_lexer": "ipython3",
   "version": "3.9.13"
  }
 },
 "nbformat": 4,
 "nbformat_minor": 5
}
